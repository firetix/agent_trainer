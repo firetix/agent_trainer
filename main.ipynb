{
 "cells": [
  {
   "cell_type": "code",
   "execution_count": 1,
   "metadata": {},
   "outputs": [],
   "source": [
    "payload = {\"assistantId\":\"f4f8dc10-2b06-4a6d-bfbe-15ac66e3005d\",\"customer\":{\"number\":\"+16505186751\"},\"phoneNumberId\":\"35e14fe3-1799-47e9-9860-f02987c9d52f\"}"
   ]
  },
  {
   "cell_type": "code",
   "execution_count": 2,
   "metadata": {},
   "outputs": [],
   "source": [
    "private_key = \"01644691-33bc-44e0-8778-4d369d4d7a5b\"\n",
    "public_key = \"392226c0-f63e-40d0-96d2-bdbdf4ba0bf5\""
   ]
  },
  {
   "cell_type": "code",
   "execution_count": 6,
   "metadata": {},
   "outputs": [
    {
     "name": "stdout",
     "output_type": "stream",
     "text": [
      "{\"id\":\"5de66da8-5541-4ee1-bbba-a804effd88aa\",\"assistantId\":\"f4f8dc10-2b06-4a6d-bfbe-15ac66e3005d\",\"phoneNumberId\":\"35e14fe3-1799-47e9-9860-f02987c9d52f\",\"type\":\"outboundPhoneCall\",\"createdAt\":\"2024-06-05T22:01:18.182Z\",\"updatedAt\":\"2024-06-05T22:01:18.754Z\",\"orgId\":\"737fd11c-c7e9-4def-9a65-8e9a8d8f4d5d\",\"cost\":0,\"customer\":{\"number\":\"+16505186751\"},\"status\":\"queued\",\"phoneCallProvider\":\"twilio\",\"phoneCallProviderId\":\"CA436f214bc18840a4455355ccb97f8685\",\"phoneCallTransport\":\"pstn\"}\n"
     ]
    }
   ],
   "source": [
    "import requests\n",
    "\n",
    "url = \"https://api.vapi.ai/call/phone\"\n",
    "\n",
    "headers = {\n",
    "    \"Authorization\": f\"Bearer {private_key}\",\n",
    "    \"Content-Type\": \"application/json\"\n",
    "}\n",
    "\n",
    "response = requests.request(\"POST\", url, json=payload, headers=headers)\n",
    "\n",
    "print(response.text)"
   ]
  },
  {
   "cell_type": "code",
   "execution_count": 1,
   "metadata": {},
   "outputs": [
    {
     "ename": "NameError",
     "evalue": "name 'private_key' is not defined",
     "output_type": "error",
     "traceback": [
      "\u001b[0;31m---------------------------------------------------------------------------\u001b[0m",
      "\u001b[0;31mNameError\u001b[0m                                 Traceback (most recent call last)",
      "Cell \u001b[0;32mIn[1], line 7\u001b[0m\n\u001b[1;32m      2\u001b[0m \u001b[38;5;28;01mimport\u001b[39;00m \u001b[38;5;21;01mjson\u001b[39;00m\n\u001b[1;32m      4\u001b[0m url \u001b[38;5;241m=\u001b[39m \u001b[38;5;124m\"\u001b[39m\u001b[38;5;124mhttps://api.vapi.ai/assistant\u001b[39m\u001b[38;5;124m\"\u001b[39m\n\u001b[1;32m      6\u001b[0m headers \u001b[38;5;241m=\u001b[39m {\n\u001b[0;32m----> 7\u001b[0m     \u001b[38;5;124m\"\u001b[39m\u001b[38;5;124mAuthorization\u001b[39m\u001b[38;5;124m\"\u001b[39m: \u001b[38;5;124mf\u001b[39m\u001b[38;5;124m\"\u001b[39m\u001b[38;5;124mBearer \u001b[39m\u001b[38;5;132;01m{\u001b[39;00m\u001b[43mprivate_key\u001b[49m\u001b[38;5;132;01m}\u001b[39;00m\u001b[38;5;124m\"\u001b[39m,\n\u001b[1;32m      8\u001b[0m     \u001b[38;5;124m\"\u001b[39m\u001b[38;5;124mContent-Type\u001b[39m\u001b[38;5;124m\"\u001b[39m: \u001b[38;5;124m\"\u001b[39m\u001b[38;5;124mapplication/json\u001b[39m\u001b[38;5;124m\"\u001b[39m\n\u001b[1;32m      9\u001b[0m }\n\u001b[1;32m     10\u001b[0m \u001b[38;5;28;01mwith\u001b[39;00m \u001b[38;5;28mopen\u001b[39m(\u001b[38;5;124m\"\u001b[39m\u001b[38;5;124mlocal_setup/payload_call.json\u001b[39m\u001b[38;5;124m\"\u001b[39m, \u001b[38;5;124m'\u001b[39m\u001b[38;5;124mr\u001b[39m\u001b[38;5;124m'\u001b[39m) \u001b[38;5;28;01mas\u001b[39;00m file:\n\u001b[1;32m     11\u001b[0m     file_json \u001b[38;5;241m=\u001b[39m json\u001b[38;5;241m.\u001b[39mload(file)\n",
      "\u001b[0;31mNameError\u001b[0m: name 'private_key' is not defined"
     ]
    }
   ],
   "source": [
    "import requests\n",
    "import json\n",
    "\n",
    "url = \"https://api.vapi.ai/assistant\"\n",
    "\n",
    "headers = {\n",
    "    \"Authorization\": f\"Bearer {private_key}\",\n",
    "    \"Content-Type\": \"application/json\"\n",
    "}\n",
    "with open(\"local_setup/payload_call.json\", 'r') as file:\n",
    "    file_json = json.load(file)\n",
    "        \n",
    "response = requests.request(\"POST\", url, json=file_json, headers=headers)\n",
    "\n",
    "print(response.text)"
   ]
  }
 ],
 "metadata": {
  "kernelspec": {
   "display_name": "Python 3",
   "language": "python",
   "name": "python3"
  },
  "language_info": {
   "codemirror_mode": {
    "name": "ipython",
    "version": 3
   },
   "file_extension": ".py",
   "mimetype": "text/x-python",
   "name": "python",
   "nbconvert_exporter": "python",
   "pygments_lexer": "ipython3",
   "version": "3.10.12"
  }
 },
 "nbformat": 4,
 "nbformat_minor": 2
}

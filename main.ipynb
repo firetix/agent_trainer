{
 "cells": [
  {
   "cell_type": "code",
   "execution_count": 3,
   "metadata": {},
   "outputs": [],
   "source": [
    "payload = {\"assistantId\":\"f4f8dc10-2b06-4a6d-bfbe-15ac66e3005d\",\"customer\":{\"number\":\"+16505186751\"},\"phoneNumberId\":\"35e14fe3-1799-47e9-9860-f02987c9d52f\"}"
   ]
  },
  {
   "cell_type": "code",
   "execution_count": 2,
   "metadata": {},
   "outputs": [],
   "source": []
  },
  {
   "cell_type": "code",
   "execution_count": 6,
   "metadata": {},
   "outputs": [
    {
     "name": "stdout",
     "output_type": "stream",
     "text": [
      "{\"id\":\"5de66da8-5541-4ee1-bbba-a804effd88aa\",\"assistantId\":\"f4f8dc10-2b06-4a6d-bfbe-15ac66e3005d\",\"phoneNumberId\":\"35e14fe3-1799-47e9-9860-f02987c9d52f\",\"type\":\"outboundPhoneCall\",\"createdAt\":\"2024-06-05T22:01:18.182Z\",\"updatedAt\":\"2024-06-05T22:01:18.754Z\",\"orgId\":\"737fd11c-c7e9-4def-9a65-8e9a8d8f4d5d\",\"cost\":0,\"customer\":{\"number\":\"+16505186751\"},\"status\":\"queued\",\"phoneCallProvider\":\"twilio\",\"phoneCallProviderId\":\"CA436f214bc18840a4455355ccb97f8685\",\"phoneCallTransport\":\"pstn\"}\n"
     ]
    }
   ],
   "source": [
    "import requests\n",
    "\n",
    "url = \"https://api.vapi.ai/call/phone\"\n",
    "\n",
    "headers = {\n",
    "    \"Authorization\": f\"Bearer {private_key}\",\n",
    "    \"Content-Type\": \"application/json\"\n",
    "}\n",
    "\n",
    "response = requests.request(\"POST\", url, json=payload, headers=headers)\n",
    "\n",
    "print(response.text)"
   ]
  },
  {
   "cell_type": "code",
   "execution_count": 4,
   "metadata": {},
   "outputs": [
    {
     "name": "stdout",
     "output_type": "stream",
     "text": [
      "{\"id\":\"37904977-d642-464f-9d97-75c48ac9d175\",\"orgId\":\"737fd11c-c7e9-4def-9a65-8e9a8d8f4d5d\",\"name\":\"Simo (Copy)\",\"voice\":{\"voiceId\":\"andrew\",\"provider\":\"azure\"},\"createdAt\":\"2024-06-05T22:03:54.025Z\",\"updatedAt\":\"2024-06-05T22:03:54.025Z\",\"model\":{\"model\":\"gpt-4o\",\"messages\":[{\"role\":\"system\",\"content\":\"You are Alex, a seasoned sales coach in a sales training app. Your role is to act as a potential client interested in various products or services. Your goal is to simulate a realistic sales conversation and evaluate the trainee's ability to pitch and close the sale.\\nTasks:\\n\\n\\nIntroduction and Context Setting: Start the conversation by introducing yourself and expressing interest in what the trainee has to offer. Ask them about their product or service.\\nProduct Inquiry: Inquire about specific details of the product or service, including features, benefits, pricing, and any special offers. Ensure the trainee provides clear and concise information.\\nObjection Handling: Present common objections or concerns to test the trainee's ability to address and resolve them effectively. Evaluate their responses and how convincingly they handle the objections.\\nClosing the Sale: Assess the trainee's techniques for closing the sale. This includes their ability to create a sense of urgency, offer incentives, and handle last-minute hesitations.\\nFeedback: After the conversation, provide feedback on their performance, highlighting strengths and areas for improvement.\\nGuidelines:\\n\\n\\nAlways remain polite and professional, simulating a real client interaction.\\nAccept the trainee's initial greeting and ask for their name to personalize the conversation.\\nIf the trainee successfully convinces you, proceed with the purchase to validate their skills.\\nIf at any point you are not convinced, provide constructive feedback and allow the trainee another attempt.\\n\"}],\"provider\":\"openai\",\"maxTokens\":250,\"temperature\":0.7},\"recordingEnabled\":true,\"firstMessage\":\"Hi there! I'm Alex, Why are you calling me today?\",\"voicemailMessage\":\"Hi, you've reached Leo at SmartHome Innovations. Sorry I missed your call. Please leave a message, and I'll get back to you as soon as possible.\",\"endCallFunctionEnabled\":true,\"endCallMessage\":\"Thanks for reaching out to SmartHome Innovations. It was great assisting you. Have a wonderful day!\",\"transcriber\":{\"model\":\"nova-2\",\"language\":\"en\",\"provider\":\"deepgram\"},\"clientMessages\":[\"transcript\",\"hang\",\"function-call\",\"speech-update\",\"metadata\",\"conversation-update\"],\"serverMessages\":[\"end-of-call-report\",\"status-update\",\"hang\",\"function-call\"],\"endCallPhrases\":[\"bye for now\",\"talk soon\"],\"backgroundSound\":\"office\",\"analysisPlan\":{\"successEvaluationPrompt\":\"You are an expert call evaluator. You will be provided with a transcript of a call and the system prompt of the AI participant. Your task is to determine if the call was successful based on the objectives inferred from the system prompt.\\n\\nEvaluation Criteria:\\n\\nEffective Openers (did_have_openers): Did the caller start the conversation with a good opening line or an effective way to begin the conversation?\\nProblem Identification (did_identify_pb): Was the caller able to correctly identify the customer's problems or opportunities?\\nObjection Handling (did_handle_objections): Did the caller handle the customer's objections effectively?\\nFollow-Up (did_follow_up): Did the caller follow up appropriately with the customer?\\nPlease assess the call based on these criteria.\",\"successEvaluationRubric\":\"AutomaticRubric\"}}\n"
     ]
    }
   ],
   "source": [
    "import requests\n",
    "import json\n",
    "\n",
    "url = \"https://api.vapi.ai/assistant\"\n",
    "\n",
    "headers = {\n",
    "    \"Authorization\": f\"Bearer {private_key}\",\n",
    "    \"Content-Type\": \"application/json\"\n",
    "}\n",
    "with open(\"local_setup/payload_call.json\", 'r') as file:\n",
    "    file_json = json.load(file)\n",
    "        \n",
    "response = requests.request(\"POST\", url, json=file_json, headers=headers)\n",
    "\n",
    "print(response.text)"
   ]
  }
 ],
 "metadata": {
  "kernelspec": {
   "display_name": "Python 3",
   "language": "python",
   "name": "python3"
  },
  "language_info": {
   "codemirror_mode": {
    "name": "ipython",
    "version": 3
   },
   "file_extension": ".py",
   "mimetype": "text/x-python",
   "name": "python",
   "nbconvert_exporter": "python",
   "pygments_lexer": "ipython3",
   "version": "3.10.12"
  }
 },
 "nbformat": 4,
 "nbformat_minor": 2
}
